{
  "nbformat": 4,
  "nbformat_minor": 0,
  "metadata": {
    "colab": {
      "provenance": []
    },
    "kernelspec": {
      "name": "python3",
      "display_name": "Python 3"
    },
    "language_info": {
      "name": "python"
    }
  },
  "cells": [
    {
      "cell_type": "code",
      "execution_count": 9,
      "metadata": {
        "id": "Wz9sDNTvrl-t"
      },
      "outputs": [],
      "source": [
        "import pandas as pd\n",
        "import sqlite3\n",
        "from sqlalchemy import create_engine"
      ]
    },
    {
      "cell_type": "code",
      "source": [
        "engine = create_engine('sqlite:///:memory:', echo=False)"
      ],
      "metadata": {
        "id": "tpYQxc6Nr238"
      },
      "execution_count": 10,
      "outputs": []
    },
    {
      "cell_type": "code",
      "source": [
        "df_train = pd.read_csv('/content/fraudTrain.csv')"
      ],
      "metadata": {
        "id": "sPCzA9CrsCGw"
      },
      "execution_count": 11,
      "outputs": []
    },
    {
      "cell_type": "code",
      "source": [
        "df_test = pd.read_csv('/content/fraudTest.csv')"
      ],
      "metadata": {
        "id": "m4N5fdWvsVtU"
      },
      "execution_count": 12,
      "outputs": []
    },
    {
      "cell_type": "code",
      "source": [
        "df = df_train.append(df_test)"
      ],
      "metadata": {
        "colab": {
          "base_uri": "https://localhost:8080/"
        },
        "id": "IcqWKW-CsXFa",
        "outputId": "f8ce5ca1-a2df-4ac8-c901-d69162b3a868"
      },
      "execution_count": 13,
      "outputs": [
        {
          "output_type": "stream",
          "name": "stderr",
          "text": [
            "<ipython-input-13-69c2958a20c4>:1: FutureWarning: The frame.append method is deprecated and will be removed from pandas in a future version. Use pandas.concat instead.\n",
            "  df = df_train.append(df_test)\n"
          ]
        }
      ]
    },
    {
      "cell_type": "code",
      "source": [
        "len(df)"
      ],
      "metadata": {
        "colab": {
          "base_uri": "https://localhost:8080/"
        },
        "id": "N_ipEUPUvp0r",
        "outputId": "c6429178-eaa9-4e22-8e02-71e09086e4d2"
      },
      "execution_count": 14,
      "outputs": [
        {
          "output_type": "execute_result",
          "data": {
            "text/plain": [
              "1253256"
            ]
          },
          "metadata": {},
          "execution_count": 14
        }
      ]
    },
    {
      "cell_type": "code",
      "source": [
        "len(df_train)"
      ],
      "metadata": {
        "colab": {
          "base_uri": "https://localhost:8080/"
        },
        "id": "VV6zuoCKvsHc",
        "outputId": "d3d22d73-9e26-4f79-f211-7c29d202fbef"
      },
      "execution_count": 15,
      "outputs": [
        {
          "output_type": "execute_result",
          "data": {
            "text/plain": [
              "697537"
            ]
          },
          "metadata": {},
          "execution_count": 15
        }
      ]
    },
    {
      "cell_type": "code",
      "source": [
        "len(df_test)"
      ],
      "metadata": {
        "colab": {
          "base_uri": "https://localhost:8080/"
        },
        "id": "LoTOGvTivtu7",
        "outputId": "c36a8f84-13ac-4d81-c2db-57b34d59c527"
      },
      "execution_count": 16,
      "outputs": [
        {
          "output_type": "execute_result",
          "data": {
            "text/plain": [
              "555719"
            ]
          },
          "metadata": {},
          "execution_count": 16
        }
      ]
    },
    {
      "cell_type": "code",
      "source": [
        "df.head(10)"
      ],
      "metadata": {
        "colab": {
          "base_uri": "https://localhost:8080/",
          "height": 1000
        },
        "id": "KjOn_2H1vvFi",
        "outputId": "2ea21549-6f6b-444e-c4cd-603fbc5c73d6"
      },
      "execution_count": 17,
      "outputs": [
        {
          "output_type": "execute_result",
          "data": {
            "text/plain": [
              "   Unnamed: 0 trans_date_trans_time            cc_num  \\\n",
              "0           0   2019-01-01 00:00:18  2703186189652095   \n",
              "1           1   2019-01-01 00:00:44      630423337322   \n",
              "2           2   2019-01-01 00:00:51    38859492057661   \n",
              "3           3   2019-01-01 00:01:16  3534093764340240   \n",
              "4           4   2019-01-01 00:03:06   375534208663984   \n",
              "5           5   2019-01-01 00:04:08  4767265376804500   \n",
              "6           6   2019-01-01 00:04:42    30074693890476   \n",
              "7           7   2019-01-01 00:05:08  6011360759745864   \n",
              "8           8   2019-01-01 00:05:18  4922710831011201   \n",
              "9           9   2019-01-01 00:06:01  2720830304681674   \n",
              "\n",
              "                             merchant       category     amt      first  \\\n",
              "0          fraud_Rippin, Kub and Mann       misc_net    4.97   Jennifer   \n",
              "1     fraud_Heller, Gutmann and Zieme    grocery_pos  107.23  Stephanie   \n",
              "2                fraud_Lind-Buckridge  entertainment  220.11     Edward   \n",
              "3  fraud_Kutch, Hermiston and Farrell  gas_transport   45.00     Jeremy   \n",
              "4                 fraud_Keeling-Crist       misc_pos   41.96      Tyler   \n",
              "5    fraud_Stroman, Hudson and Erdman  gas_transport   94.63   Jennifer   \n",
              "6               fraud_Rowe-Vandervort    grocery_net   44.54     Kelsey   \n",
              "7                fraud_Corwin-Collins  gas_transport   71.65     Steven   \n",
              "8                    fraud_Herzog Ltd       misc_pos    4.27    Heather   \n",
              "9   fraud_Schoen, Kuphal and Nitzsche    grocery_pos  198.39    Melissa   \n",
              "\n",
              "       last gender                          street  ...      lat      long  \\\n",
              "0     Banks      F                  561 Perry Cove  ...  36.0788  -81.1781   \n",
              "1      Gill      F    43039 Riley Greens Suite 393  ...  48.8878 -118.2105   \n",
              "2   Sanchez      M        594 White Dale Suite 530  ...  42.1808 -112.2620   \n",
              "3     White      M     9443 Cynthia Court Apt. 038  ...  46.2306 -112.1138   \n",
              "4    Garcia      M                408 Bradley Rest  ...  38.4207  -79.4629   \n",
              "5    Conner      F               4655 David Island  ...  40.3750  -75.2045   \n",
              "6  Richards      F     889 Sarah Station Suite 624  ...  37.9931 -100.9893   \n",
              "7  Williams      M       231 Flores Pass Suite 720  ...  38.8432  -78.6003   \n",
              "8     Chase      F     6888 Hicks Stream Suite 954  ...  40.3359  -79.6607   \n",
              "9   Aguilar      F  21326 Taylor Squares Suite 708  ...  36.5220  -87.3490   \n",
              "\n",
              "   city_pop                                job         dob  \\\n",
              "0    3495.0          Psychologist, counselling  1988-03-09   \n",
              "1     149.0  Special educational needs teacher  1978-06-21   \n",
              "2    4154.0        Nature conservation officer  1962-01-19   \n",
              "3    1939.0                    Patent attorney  1967-01-12   \n",
              "4      99.0     Dance movement psychotherapist  1986-03-28   \n",
              "5    2158.0                  Transport planner  1961-06-19   \n",
              "6    2691.0                    Arboriculturist  1993-08-16   \n",
              "7    6018.0               Designer, multimedia  1947-08-21   \n",
              "8    1472.0          Public affairs consultant  1941-03-07   \n",
              "9  151785.0                        Pathologist  1974-03-28   \n",
              "\n",
              "                          trans_num     unix_time  merch_lat  merch_long  \\\n",
              "0  0b242abb623afc578575680df30655b9  1.325376e+09  36.011293  -82.048315   \n",
              "1  1f76529f8574734946361c461b024d99  1.325376e+09  49.159047 -118.186462   \n",
              "2  a1a22d70485983eac12b5b88dad1cf95  1.325376e+09  43.150704 -112.154481   \n",
              "3  6b849c168bdad6f867558c3793159a81  1.325376e+09  47.034331 -112.561071   \n",
              "4  a41d7549acf90789359a9aa5346dcb46  1.325376e+09  38.674999  -78.632459   \n",
              "5  189a841a0a8ba03058526bcfe566aab5  1.325376e+09  40.653382  -76.152667   \n",
              "6  83ec1cc84142af6e2acf10c44949e720  1.325376e+09  37.162705 -100.153370   \n",
              "7  6d294ed2cc447d2c71c7171a3d54967c  1.325376e+09  38.948089  -78.540296   \n",
              "8  fc28024ce480f8ef21a32d64c93a29f5  1.325376e+09  40.351813  -79.958146   \n",
              "9  3b9014ea8fb80bd65de0b1463b00b00e  1.325376e+09  37.179198  -87.485381   \n",
              "\n",
              "   is_fraud  \n",
              "0       0.0  \n",
              "1       0.0  \n",
              "2       0.0  \n",
              "3       0.0  \n",
              "4       0.0  \n",
              "5       0.0  \n",
              "6       0.0  \n",
              "7       0.0  \n",
              "8       0.0  \n",
              "9       0.0  \n",
              "\n",
              "[10 rows x 23 columns]"
            ],
            "text/html": [
              "\n",
              "  <div id=\"df-379c15d6-73dc-4f28-ac95-fb0aa61ededa\" class=\"colab-df-container\">\n",
              "    <div>\n",
              "<style scoped>\n",
              "    .dataframe tbody tr th:only-of-type {\n",
              "        vertical-align: middle;\n",
              "    }\n",
              "\n",
              "    .dataframe tbody tr th {\n",
              "        vertical-align: top;\n",
              "    }\n",
              "\n",
              "    .dataframe thead th {\n",
              "        text-align: right;\n",
              "    }\n",
              "</style>\n",
              "<table border=\"1\" class=\"dataframe\">\n",
              "  <thead>\n",
              "    <tr style=\"text-align: right;\">\n",
              "      <th></th>\n",
              "      <th>Unnamed: 0</th>\n",
              "      <th>trans_date_trans_time</th>\n",
              "      <th>cc_num</th>\n",
              "      <th>merchant</th>\n",
              "      <th>category</th>\n",
              "      <th>amt</th>\n",
              "      <th>first</th>\n",
              "      <th>last</th>\n",
              "      <th>gender</th>\n",
              "      <th>street</th>\n",
              "      <th>...</th>\n",
              "      <th>lat</th>\n",
              "      <th>long</th>\n",
              "      <th>city_pop</th>\n",
              "      <th>job</th>\n",
              "      <th>dob</th>\n",
              "      <th>trans_num</th>\n",
              "      <th>unix_time</th>\n",
              "      <th>merch_lat</th>\n",
              "      <th>merch_long</th>\n",
              "      <th>is_fraud</th>\n",
              "    </tr>\n",
              "  </thead>\n",
              "  <tbody>\n",
              "    <tr>\n",
              "      <th>0</th>\n",
              "      <td>0</td>\n",
              "      <td>2019-01-01 00:00:18</td>\n",
              "      <td>2703186189652095</td>\n",
              "      <td>fraud_Rippin, Kub and Mann</td>\n",
              "      <td>misc_net</td>\n",
              "      <td>4.97</td>\n",
              "      <td>Jennifer</td>\n",
              "      <td>Banks</td>\n",
              "      <td>F</td>\n",
              "      <td>561 Perry Cove</td>\n",
              "      <td>...</td>\n",
              "      <td>36.0788</td>\n",
              "      <td>-81.1781</td>\n",
              "      <td>3495.0</td>\n",
              "      <td>Psychologist, counselling</td>\n",
              "      <td>1988-03-09</td>\n",
              "      <td>0b242abb623afc578575680df30655b9</td>\n",
              "      <td>1.325376e+09</td>\n",
              "      <td>36.011293</td>\n",
              "      <td>-82.048315</td>\n",
              "      <td>0.0</td>\n",
              "    </tr>\n",
              "    <tr>\n",
              "      <th>1</th>\n",
              "      <td>1</td>\n",
              "      <td>2019-01-01 00:00:44</td>\n",
              "      <td>630423337322</td>\n",
              "      <td>fraud_Heller, Gutmann and Zieme</td>\n",
              "      <td>grocery_pos</td>\n",
              "      <td>107.23</td>\n",
              "      <td>Stephanie</td>\n",
              "      <td>Gill</td>\n",
              "      <td>F</td>\n",
              "      <td>43039 Riley Greens Suite 393</td>\n",
              "      <td>...</td>\n",
              "      <td>48.8878</td>\n",
              "      <td>-118.2105</td>\n",
              "      <td>149.0</td>\n",
              "      <td>Special educational needs teacher</td>\n",
              "      <td>1978-06-21</td>\n",
              "      <td>1f76529f8574734946361c461b024d99</td>\n",
              "      <td>1.325376e+09</td>\n",
              "      <td>49.159047</td>\n",
              "      <td>-118.186462</td>\n",
              "      <td>0.0</td>\n",
              "    </tr>\n",
              "    <tr>\n",
              "      <th>2</th>\n",
              "      <td>2</td>\n",
              "      <td>2019-01-01 00:00:51</td>\n",
              "      <td>38859492057661</td>\n",
              "      <td>fraud_Lind-Buckridge</td>\n",
              "      <td>entertainment</td>\n",
              "      <td>220.11</td>\n",
              "      <td>Edward</td>\n",
              "      <td>Sanchez</td>\n",
              "      <td>M</td>\n",
              "      <td>594 White Dale Suite 530</td>\n",
              "      <td>...</td>\n",
              "      <td>42.1808</td>\n",
              "      <td>-112.2620</td>\n",
              "      <td>4154.0</td>\n",
              "      <td>Nature conservation officer</td>\n",
              "      <td>1962-01-19</td>\n",
              "      <td>a1a22d70485983eac12b5b88dad1cf95</td>\n",
              "      <td>1.325376e+09</td>\n",
              "      <td>43.150704</td>\n",
              "      <td>-112.154481</td>\n",
              "      <td>0.0</td>\n",
              "    </tr>\n",
              "    <tr>\n",
              "      <th>3</th>\n",
              "      <td>3</td>\n",
              "      <td>2019-01-01 00:01:16</td>\n",
              "      <td>3534093764340240</td>\n",
              "      <td>fraud_Kutch, Hermiston and Farrell</td>\n",
              "      <td>gas_transport</td>\n",
              "      <td>45.00</td>\n",
              "      <td>Jeremy</td>\n",
              "      <td>White</td>\n",
              "      <td>M</td>\n",
              "      <td>9443 Cynthia Court Apt. 038</td>\n",
              "      <td>...</td>\n",
              "      <td>46.2306</td>\n",
              "      <td>-112.1138</td>\n",
              "      <td>1939.0</td>\n",
              "      <td>Patent attorney</td>\n",
              "      <td>1967-01-12</td>\n",
              "      <td>6b849c168bdad6f867558c3793159a81</td>\n",
              "      <td>1.325376e+09</td>\n",
              "      <td>47.034331</td>\n",
              "      <td>-112.561071</td>\n",
              "      <td>0.0</td>\n",
              "    </tr>\n",
              "    <tr>\n",
              "      <th>4</th>\n",
              "      <td>4</td>\n",
              "      <td>2019-01-01 00:03:06</td>\n",
              "      <td>375534208663984</td>\n",
              "      <td>fraud_Keeling-Crist</td>\n",
              "      <td>misc_pos</td>\n",
              "      <td>41.96</td>\n",
              "      <td>Tyler</td>\n",
              "      <td>Garcia</td>\n",
              "      <td>M</td>\n",
              "      <td>408 Bradley Rest</td>\n",
              "      <td>...</td>\n",
              "      <td>38.4207</td>\n",
              "      <td>-79.4629</td>\n",
              "      <td>99.0</td>\n",
              "      <td>Dance movement psychotherapist</td>\n",
              "      <td>1986-03-28</td>\n",
              "      <td>a41d7549acf90789359a9aa5346dcb46</td>\n",
              "      <td>1.325376e+09</td>\n",
              "      <td>38.674999</td>\n",
              "      <td>-78.632459</td>\n",
              "      <td>0.0</td>\n",
              "    </tr>\n",
              "    <tr>\n",
              "      <th>5</th>\n",
              "      <td>5</td>\n",
              "      <td>2019-01-01 00:04:08</td>\n",
              "      <td>4767265376804500</td>\n",
              "      <td>fraud_Stroman, Hudson and Erdman</td>\n",
              "      <td>gas_transport</td>\n",
              "      <td>94.63</td>\n",
              "      <td>Jennifer</td>\n",
              "      <td>Conner</td>\n",
              "      <td>F</td>\n",
              "      <td>4655 David Island</td>\n",
              "      <td>...</td>\n",
              "      <td>40.3750</td>\n",
              "      <td>-75.2045</td>\n",
              "      <td>2158.0</td>\n",
              "      <td>Transport planner</td>\n",
              "      <td>1961-06-19</td>\n",
              "      <td>189a841a0a8ba03058526bcfe566aab5</td>\n",
              "      <td>1.325376e+09</td>\n",
              "      <td>40.653382</td>\n",
              "      <td>-76.152667</td>\n",
              "      <td>0.0</td>\n",
              "    </tr>\n",
              "    <tr>\n",
              "      <th>6</th>\n",
              "      <td>6</td>\n",
              "      <td>2019-01-01 00:04:42</td>\n",
              "      <td>30074693890476</td>\n",
              "      <td>fraud_Rowe-Vandervort</td>\n",
              "      <td>grocery_net</td>\n",
              "      <td>44.54</td>\n",
              "      <td>Kelsey</td>\n",
              "      <td>Richards</td>\n",
              "      <td>F</td>\n",
              "      <td>889 Sarah Station Suite 624</td>\n",
              "      <td>...</td>\n",
              "      <td>37.9931</td>\n",
              "      <td>-100.9893</td>\n",
              "      <td>2691.0</td>\n",
              "      <td>Arboriculturist</td>\n",
              "      <td>1993-08-16</td>\n",
              "      <td>83ec1cc84142af6e2acf10c44949e720</td>\n",
              "      <td>1.325376e+09</td>\n",
              "      <td>37.162705</td>\n",
              "      <td>-100.153370</td>\n",
              "      <td>0.0</td>\n",
              "    </tr>\n",
              "    <tr>\n",
              "      <th>7</th>\n",
              "      <td>7</td>\n",
              "      <td>2019-01-01 00:05:08</td>\n",
              "      <td>6011360759745864</td>\n",
              "      <td>fraud_Corwin-Collins</td>\n",
              "      <td>gas_transport</td>\n",
              "      <td>71.65</td>\n",
              "      <td>Steven</td>\n",
              "      <td>Williams</td>\n",
              "      <td>M</td>\n",
              "      <td>231 Flores Pass Suite 720</td>\n",
              "      <td>...</td>\n",
              "      <td>38.8432</td>\n",
              "      <td>-78.6003</td>\n",
              "      <td>6018.0</td>\n",
              "      <td>Designer, multimedia</td>\n",
              "      <td>1947-08-21</td>\n",
              "      <td>6d294ed2cc447d2c71c7171a3d54967c</td>\n",
              "      <td>1.325376e+09</td>\n",
              "      <td>38.948089</td>\n",
              "      <td>-78.540296</td>\n",
              "      <td>0.0</td>\n",
              "    </tr>\n",
              "    <tr>\n",
              "      <th>8</th>\n",
              "      <td>8</td>\n",
              "      <td>2019-01-01 00:05:18</td>\n",
              "      <td>4922710831011201</td>\n",
              "      <td>fraud_Herzog Ltd</td>\n",
              "      <td>misc_pos</td>\n",
              "      <td>4.27</td>\n",
              "      <td>Heather</td>\n",
              "      <td>Chase</td>\n",
              "      <td>F</td>\n",
              "      <td>6888 Hicks Stream Suite 954</td>\n",
              "      <td>...</td>\n",
              "      <td>40.3359</td>\n",
              "      <td>-79.6607</td>\n",
              "      <td>1472.0</td>\n",
              "      <td>Public affairs consultant</td>\n",
              "      <td>1941-03-07</td>\n",
              "      <td>fc28024ce480f8ef21a32d64c93a29f5</td>\n",
              "      <td>1.325376e+09</td>\n",
              "      <td>40.351813</td>\n",
              "      <td>-79.958146</td>\n",
              "      <td>0.0</td>\n",
              "    </tr>\n",
              "    <tr>\n",
              "      <th>9</th>\n",
              "      <td>9</td>\n",
              "      <td>2019-01-01 00:06:01</td>\n",
              "      <td>2720830304681674</td>\n",
              "      <td>fraud_Schoen, Kuphal and Nitzsche</td>\n",
              "      <td>grocery_pos</td>\n",
              "      <td>198.39</td>\n",
              "      <td>Melissa</td>\n",
              "      <td>Aguilar</td>\n",
              "      <td>F</td>\n",
              "      <td>21326 Taylor Squares Suite 708</td>\n",
              "      <td>...</td>\n",
              "      <td>36.5220</td>\n",
              "      <td>-87.3490</td>\n",
              "      <td>151785.0</td>\n",
              "      <td>Pathologist</td>\n",
              "      <td>1974-03-28</td>\n",
              "      <td>3b9014ea8fb80bd65de0b1463b00b00e</td>\n",
              "      <td>1.325376e+09</td>\n",
              "      <td>37.179198</td>\n",
              "      <td>-87.485381</td>\n",
              "      <td>0.0</td>\n",
              "    </tr>\n",
              "  </tbody>\n",
              "</table>\n",
              "<p>10 rows × 23 columns</p>\n",
              "</div>\n",
              "    <div class=\"colab-df-buttons\">\n",
              "\n",
              "  <div class=\"colab-df-container\">\n",
              "    <button class=\"colab-df-convert\" onclick=\"convertToInteractive('df-379c15d6-73dc-4f28-ac95-fb0aa61ededa')\"\n",
              "            title=\"Convert this dataframe to an interactive table.\"\n",
              "            style=\"display:none;\">\n",
              "\n",
              "  <svg xmlns=\"http://www.w3.org/2000/svg\" height=\"24px\" viewBox=\"0 -960 960 960\">\n",
              "    <path d=\"M120-120v-720h720v720H120Zm60-500h600v-160H180v160Zm220 220h160v-160H400v160Zm0 220h160v-160H400v160ZM180-400h160v-160H180v160Zm440 0h160v-160H620v160ZM180-180h160v-160H180v160Zm440 0h160v-160H620v160Z\"/>\n",
              "  </svg>\n",
              "    </button>\n",
              "\n",
              "  <style>\n",
              "    .colab-df-container {\n",
              "      display:flex;\n",
              "      gap: 12px;\n",
              "    }\n",
              "\n",
              "    .colab-df-convert {\n",
              "      background-color: #E8F0FE;\n",
              "      border: none;\n",
              "      border-radius: 50%;\n",
              "      cursor: pointer;\n",
              "      display: none;\n",
              "      fill: #1967D2;\n",
              "      height: 32px;\n",
              "      padding: 0 0 0 0;\n",
              "      width: 32px;\n",
              "    }\n",
              "\n",
              "    .colab-df-convert:hover {\n",
              "      background-color: #E2EBFA;\n",
              "      box-shadow: 0px 1px 2px rgba(60, 64, 67, 0.3), 0px 1px 3px 1px rgba(60, 64, 67, 0.15);\n",
              "      fill: #174EA6;\n",
              "    }\n",
              "\n",
              "    .colab-df-buttons div {\n",
              "      margin-bottom: 4px;\n",
              "    }\n",
              "\n",
              "    [theme=dark] .colab-df-convert {\n",
              "      background-color: #3B4455;\n",
              "      fill: #D2E3FC;\n",
              "    }\n",
              "\n",
              "    [theme=dark] .colab-df-convert:hover {\n",
              "      background-color: #434B5C;\n",
              "      box-shadow: 0px 1px 3px 1px rgba(0, 0, 0, 0.15);\n",
              "      filter: drop-shadow(0px 1px 2px rgba(0, 0, 0, 0.3));\n",
              "      fill: #FFFFFF;\n",
              "    }\n",
              "  </style>\n",
              "\n",
              "    <script>\n",
              "      const buttonEl =\n",
              "        document.querySelector('#df-379c15d6-73dc-4f28-ac95-fb0aa61ededa button.colab-df-convert');\n",
              "      buttonEl.style.display =\n",
              "        google.colab.kernel.accessAllowed ? 'block' : 'none';\n",
              "\n",
              "      async function convertToInteractive(key) {\n",
              "        const element = document.querySelector('#df-379c15d6-73dc-4f28-ac95-fb0aa61ededa');\n",
              "        const dataTable =\n",
              "          await google.colab.kernel.invokeFunction('convertToInteractive',\n",
              "                                                    [key], {});\n",
              "        if (!dataTable) return;\n",
              "\n",
              "        const docLinkHtml = 'Like what you see? Visit the ' +\n",
              "          '<a target=\"_blank\" href=https://colab.research.google.com/notebooks/data_table.ipynb>data table notebook</a>'\n",
              "          + ' to learn more about interactive tables.';\n",
              "        element.innerHTML = '';\n",
              "        dataTable['output_type'] = 'display_data';\n",
              "        await google.colab.output.renderOutput(dataTable, element);\n",
              "        const docLink = document.createElement('div');\n",
              "        docLink.innerHTML = docLinkHtml;\n",
              "        element.appendChild(docLink);\n",
              "      }\n",
              "    </script>\n",
              "  </div>\n",
              "\n",
              "\n",
              "<div id=\"df-e73eebe9-ff9e-4a7c-a010-4b70418ed214\">\n",
              "  <button class=\"colab-df-quickchart\" onclick=\"quickchart('df-e73eebe9-ff9e-4a7c-a010-4b70418ed214')\"\n",
              "            title=\"Suggest charts\"\n",
              "            style=\"display:none;\">\n",
              "\n",
              "<svg xmlns=\"http://www.w3.org/2000/svg\" height=\"24px\"viewBox=\"0 0 24 24\"\n",
              "     width=\"24px\">\n",
              "    <g>\n",
              "        <path d=\"M19 3H5c-1.1 0-2 .9-2 2v14c0 1.1.9 2 2 2h14c1.1 0 2-.9 2-2V5c0-1.1-.9-2-2-2zM9 17H7v-7h2v7zm4 0h-2V7h2v10zm4 0h-2v-4h2v4z\"/>\n",
              "    </g>\n",
              "</svg>\n",
              "  </button>\n",
              "\n",
              "<style>\n",
              "  .colab-df-quickchart {\n",
              "      --bg-color: #E8F0FE;\n",
              "      --fill-color: #1967D2;\n",
              "      --hover-bg-color: #E2EBFA;\n",
              "      --hover-fill-color: #174EA6;\n",
              "      --disabled-fill-color: #AAA;\n",
              "      --disabled-bg-color: #DDD;\n",
              "  }\n",
              "\n",
              "  [theme=dark] .colab-df-quickchart {\n",
              "      --bg-color: #3B4455;\n",
              "      --fill-color: #D2E3FC;\n",
              "      --hover-bg-color: #434B5C;\n",
              "      --hover-fill-color: #FFFFFF;\n",
              "      --disabled-bg-color: #3B4455;\n",
              "      --disabled-fill-color: #666;\n",
              "  }\n",
              "\n",
              "  .colab-df-quickchart {\n",
              "    background-color: var(--bg-color);\n",
              "    border: none;\n",
              "    border-radius: 50%;\n",
              "    cursor: pointer;\n",
              "    display: none;\n",
              "    fill: var(--fill-color);\n",
              "    height: 32px;\n",
              "    padding: 0;\n",
              "    width: 32px;\n",
              "  }\n",
              "\n",
              "  .colab-df-quickchart:hover {\n",
              "    background-color: var(--hover-bg-color);\n",
              "    box-shadow: 0 1px 2px rgba(60, 64, 67, 0.3), 0 1px 3px 1px rgba(60, 64, 67, 0.15);\n",
              "    fill: var(--button-hover-fill-color);\n",
              "  }\n",
              "\n",
              "  .colab-df-quickchart-complete:disabled,\n",
              "  .colab-df-quickchart-complete:disabled:hover {\n",
              "    background-color: var(--disabled-bg-color);\n",
              "    fill: var(--disabled-fill-color);\n",
              "    box-shadow: none;\n",
              "  }\n",
              "\n",
              "  .colab-df-spinner {\n",
              "    border: 2px solid var(--fill-color);\n",
              "    border-color: transparent;\n",
              "    border-bottom-color: var(--fill-color);\n",
              "    animation:\n",
              "      spin 1s steps(1) infinite;\n",
              "  }\n",
              "\n",
              "  @keyframes spin {\n",
              "    0% {\n",
              "      border-color: transparent;\n",
              "      border-bottom-color: var(--fill-color);\n",
              "      border-left-color: var(--fill-color);\n",
              "    }\n",
              "    20% {\n",
              "      border-color: transparent;\n",
              "      border-left-color: var(--fill-color);\n",
              "      border-top-color: var(--fill-color);\n",
              "    }\n",
              "    30% {\n",
              "      border-color: transparent;\n",
              "      border-left-color: var(--fill-color);\n",
              "      border-top-color: var(--fill-color);\n",
              "      border-right-color: var(--fill-color);\n",
              "    }\n",
              "    40% {\n",
              "      border-color: transparent;\n",
              "      border-right-color: var(--fill-color);\n",
              "      border-top-color: var(--fill-color);\n",
              "    }\n",
              "    60% {\n",
              "      border-color: transparent;\n",
              "      border-right-color: var(--fill-color);\n",
              "    }\n",
              "    80% {\n",
              "      border-color: transparent;\n",
              "      border-right-color: var(--fill-color);\n",
              "      border-bottom-color: var(--fill-color);\n",
              "    }\n",
              "    90% {\n",
              "      border-color: transparent;\n",
              "      border-bottom-color: var(--fill-color);\n",
              "    }\n",
              "  }\n",
              "</style>\n",
              "\n",
              "  <script>\n",
              "    async function quickchart(key) {\n",
              "      const quickchartButtonEl =\n",
              "        document.querySelector('#' + key + ' button');\n",
              "      quickchartButtonEl.disabled = true;  // To prevent multiple clicks.\n",
              "      quickchartButtonEl.classList.add('colab-df-spinner');\n",
              "      try {\n",
              "        const charts = await google.colab.kernel.invokeFunction(\n",
              "            'suggestCharts', [key], {});\n",
              "      } catch (error) {\n",
              "        console.error('Error during call to suggestCharts:', error);\n",
              "      }\n",
              "      quickchartButtonEl.classList.remove('colab-df-spinner');\n",
              "      quickchartButtonEl.classList.add('colab-df-quickchart-complete');\n",
              "    }\n",
              "    (() => {\n",
              "      let quickchartButtonEl =\n",
              "        document.querySelector('#df-e73eebe9-ff9e-4a7c-a010-4b70418ed214 button');\n",
              "      quickchartButtonEl.style.display =\n",
              "        google.colab.kernel.accessAllowed ? 'block' : 'none';\n",
              "    })();\n",
              "  </script>\n",
              "</div>\n",
              "\n",
              "    </div>\n",
              "  </div>\n"
            ]
          },
          "metadata": {},
          "execution_count": 17
        }
      ]
    },
    {
      "cell_type": "code",
      "source": [
        "df.drop(columns=[\"Unnamed: 0\",\"merch_long\",\"merch_lat\",\"trans_num\",\"unix_time\",],inplace=True)"
      ],
      "metadata": {
        "id": "02ZSGnj2vwtd"
      },
      "execution_count": 18,
      "outputs": []
    },
    {
      "cell_type": "code",
      "source": [
        "df.head()"
      ],
      "metadata": {
        "colab": {
          "base_uri": "https://localhost:8080/",
          "height": 503
        },
        "id": "W6iLK2Se5ZOw",
        "outputId": "432ace95-7036-4ec2-ad49-11d06633e3da"
      },
      "execution_count": 19,
      "outputs": [
        {
          "output_type": "execute_result",
          "data": {
            "text/plain": [
              "  trans_date_trans_time            cc_num                            merchant  \\\n",
              "0   2019-01-01 00:00:18  2703186189652095          fraud_Rippin, Kub and Mann   \n",
              "1   2019-01-01 00:00:44      630423337322     fraud_Heller, Gutmann and Zieme   \n",
              "2   2019-01-01 00:00:51    38859492057661                fraud_Lind-Buckridge   \n",
              "3   2019-01-01 00:01:16  3534093764340240  fraud_Kutch, Hermiston and Farrell   \n",
              "4   2019-01-01 00:03:06   375534208663984                 fraud_Keeling-Crist   \n",
              "\n",
              "        category     amt      first     last gender  \\\n",
              "0       misc_net    4.97   Jennifer    Banks      F   \n",
              "1    grocery_pos  107.23  Stephanie     Gill      F   \n",
              "2  entertainment  220.11     Edward  Sanchez      M   \n",
              "3  gas_transport   45.00     Jeremy    White      M   \n",
              "4       misc_pos   41.96      Tyler   Garcia      M   \n",
              "\n",
              "                         street            city state      zip      lat  \\\n",
              "0                561 Perry Cove  Moravian Falls    NC  28654.0  36.0788   \n",
              "1  43039 Riley Greens Suite 393          Orient    WA  99160.0  48.8878   \n",
              "2      594 White Dale Suite 530      Malad City    ID  83252.0  42.1808   \n",
              "3   9443 Cynthia Court Apt. 038         Boulder    MT  59632.0  46.2306   \n",
              "4              408 Bradley Rest        Doe Hill    VA  24433.0  38.4207   \n",
              "\n",
              "       long  city_pop                                job         dob  is_fraud  \n",
              "0  -81.1781    3495.0          Psychologist, counselling  1988-03-09       0.0  \n",
              "1 -118.2105     149.0  Special educational needs teacher  1978-06-21       0.0  \n",
              "2 -112.2620    4154.0        Nature conservation officer  1962-01-19       0.0  \n",
              "3 -112.1138    1939.0                    Patent attorney  1967-01-12       0.0  \n",
              "4  -79.4629      99.0     Dance movement psychotherapist  1986-03-28       0.0  "
            ],
            "text/html": [
              "\n",
              "  <div id=\"df-8d2b943b-d4ea-4448-b8f8-b68a2b549b4c\" class=\"colab-df-container\">\n",
              "    <div>\n",
              "<style scoped>\n",
              "    .dataframe tbody tr th:only-of-type {\n",
              "        vertical-align: middle;\n",
              "    }\n",
              "\n",
              "    .dataframe tbody tr th {\n",
              "        vertical-align: top;\n",
              "    }\n",
              "\n",
              "    .dataframe thead th {\n",
              "        text-align: right;\n",
              "    }\n",
              "</style>\n",
              "<table border=\"1\" class=\"dataframe\">\n",
              "  <thead>\n",
              "    <tr style=\"text-align: right;\">\n",
              "      <th></th>\n",
              "      <th>trans_date_trans_time</th>\n",
              "      <th>cc_num</th>\n",
              "      <th>merchant</th>\n",
              "      <th>category</th>\n",
              "      <th>amt</th>\n",
              "      <th>first</th>\n",
              "      <th>last</th>\n",
              "      <th>gender</th>\n",
              "      <th>street</th>\n",
              "      <th>city</th>\n",
              "      <th>state</th>\n",
              "      <th>zip</th>\n",
              "      <th>lat</th>\n",
              "      <th>long</th>\n",
              "      <th>city_pop</th>\n",
              "      <th>job</th>\n",
              "      <th>dob</th>\n",
              "      <th>is_fraud</th>\n",
              "    </tr>\n",
              "  </thead>\n",
              "  <tbody>\n",
              "    <tr>\n",
              "      <th>0</th>\n",
              "      <td>2019-01-01 00:00:18</td>\n",
              "      <td>2703186189652095</td>\n",
              "      <td>fraud_Rippin, Kub and Mann</td>\n",
              "      <td>misc_net</td>\n",
              "      <td>4.97</td>\n",
              "      <td>Jennifer</td>\n",
              "      <td>Banks</td>\n",
              "      <td>F</td>\n",
              "      <td>561 Perry Cove</td>\n",
              "      <td>Moravian Falls</td>\n",
              "      <td>NC</td>\n",
              "      <td>28654.0</td>\n",
              "      <td>36.0788</td>\n",
              "      <td>-81.1781</td>\n",
              "      <td>3495.0</td>\n",
              "      <td>Psychologist, counselling</td>\n",
              "      <td>1988-03-09</td>\n",
              "      <td>0.0</td>\n",
              "    </tr>\n",
              "    <tr>\n",
              "      <th>1</th>\n",
              "      <td>2019-01-01 00:00:44</td>\n",
              "      <td>630423337322</td>\n",
              "      <td>fraud_Heller, Gutmann and Zieme</td>\n",
              "      <td>grocery_pos</td>\n",
              "      <td>107.23</td>\n",
              "      <td>Stephanie</td>\n",
              "      <td>Gill</td>\n",
              "      <td>F</td>\n",
              "      <td>43039 Riley Greens Suite 393</td>\n",
              "      <td>Orient</td>\n",
              "      <td>WA</td>\n",
              "      <td>99160.0</td>\n",
              "      <td>48.8878</td>\n",
              "      <td>-118.2105</td>\n",
              "      <td>149.0</td>\n",
              "      <td>Special educational needs teacher</td>\n",
              "      <td>1978-06-21</td>\n",
              "      <td>0.0</td>\n",
              "    </tr>\n",
              "    <tr>\n",
              "      <th>2</th>\n",
              "      <td>2019-01-01 00:00:51</td>\n",
              "      <td>38859492057661</td>\n",
              "      <td>fraud_Lind-Buckridge</td>\n",
              "      <td>entertainment</td>\n",
              "      <td>220.11</td>\n",
              "      <td>Edward</td>\n",
              "      <td>Sanchez</td>\n",
              "      <td>M</td>\n",
              "      <td>594 White Dale Suite 530</td>\n",
              "      <td>Malad City</td>\n",
              "      <td>ID</td>\n",
              "      <td>83252.0</td>\n",
              "      <td>42.1808</td>\n",
              "      <td>-112.2620</td>\n",
              "      <td>4154.0</td>\n",
              "      <td>Nature conservation officer</td>\n",
              "      <td>1962-01-19</td>\n",
              "      <td>0.0</td>\n",
              "    </tr>\n",
              "    <tr>\n",
              "      <th>3</th>\n",
              "      <td>2019-01-01 00:01:16</td>\n",
              "      <td>3534093764340240</td>\n",
              "      <td>fraud_Kutch, Hermiston and Farrell</td>\n",
              "      <td>gas_transport</td>\n",
              "      <td>45.00</td>\n",
              "      <td>Jeremy</td>\n",
              "      <td>White</td>\n",
              "      <td>M</td>\n",
              "      <td>9443 Cynthia Court Apt. 038</td>\n",
              "      <td>Boulder</td>\n",
              "      <td>MT</td>\n",
              "      <td>59632.0</td>\n",
              "      <td>46.2306</td>\n",
              "      <td>-112.1138</td>\n",
              "      <td>1939.0</td>\n",
              "      <td>Patent attorney</td>\n",
              "      <td>1967-01-12</td>\n",
              "      <td>0.0</td>\n",
              "    </tr>\n",
              "    <tr>\n",
              "      <th>4</th>\n",
              "      <td>2019-01-01 00:03:06</td>\n",
              "      <td>375534208663984</td>\n",
              "      <td>fraud_Keeling-Crist</td>\n",
              "      <td>misc_pos</td>\n",
              "      <td>41.96</td>\n",
              "      <td>Tyler</td>\n",
              "      <td>Garcia</td>\n",
              "      <td>M</td>\n",
              "      <td>408 Bradley Rest</td>\n",
              "      <td>Doe Hill</td>\n",
              "      <td>VA</td>\n",
              "      <td>24433.0</td>\n",
              "      <td>38.4207</td>\n",
              "      <td>-79.4629</td>\n",
              "      <td>99.0</td>\n",
              "      <td>Dance movement psychotherapist</td>\n",
              "      <td>1986-03-28</td>\n",
              "      <td>0.0</td>\n",
              "    </tr>\n",
              "  </tbody>\n",
              "</table>\n",
              "</div>\n",
              "    <div class=\"colab-df-buttons\">\n",
              "\n",
              "  <div class=\"colab-df-container\">\n",
              "    <button class=\"colab-df-convert\" onclick=\"convertToInteractive('df-8d2b943b-d4ea-4448-b8f8-b68a2b549b4c')\"\n",
              "            title=\"Convert this dataframe to an interactive table.\"\n",
              "            style=\"display:none;\">\n",
              "\n",
              "  <svg xmlns=\"http://www.w3.org/2000/svg\" height=\"24px\" viewBox=\"0 -960 960 960\">\n",
              "    <path d=\"M120-120v-720h720v720H120Zm60-500h600v-160H180v160Zm220 220h160v-160H400v160Zm0 220h160v-160H400v160ZM180-400h160v-160H180v160Zm440 0h160v-160H620v160ZM180-180h160v-160H180v160Zm440 0h160v-160H620v160Z\"/>\n",
              "  </svg>\n",
              "    </button>\n",
              "\n",
              "  <style>\n",
              "    .colab-df-container {\n",
              "      display:flex;\n",
              "      gap: 12px;\n",
              "    }\n",
              "\n",
              "    .colab-df-convert {\n",
              "      background-color: #E8F0FE;\n",
              "      border: none;\n",
              "      border-radius: 50%;\n",
              "      cursor: pointer;\n",
              "      display: none;\n",
              "      fill: #1967D2;\n",
              "      height: 32px;\n",
              "      padding: 0 0 0 0;\n",
              "      width: 32px;\n",
              "    }\n",
              "\n",
              "    .colab-df-convert:hover {\n",
              "      background-color: #E2EBFA;\n",
              "      box-shadow: 0px 1px 2px rgba(60, 64, 67, 0.3), 0px 1px 3px 1px rgba(60, 64, 67, 0.15);\n",
              "      fill: #174EA6;\n",
              "    }\n",
              "\n",
              "    .colab-df-buttons div {\n",
              "      margin-bottom: 4px;\n",
              "    }\n",
              "\n",
              "    [theme=dark] .colab-df-convert {\n",
              "      background-color: #3B4455;\n",
              "      fill: #D2E3FC;\n",
              "    }\n",
              "\n",
              "    [theme=dark] .colab-df-convert:hover {\n",
              "      background-color: #434B5C;\n",
              "      box-shadow: 0px 1px 3px 1px rgba(0, 0, 0, 0.15);\n",
              "      filter: drop-shadow(0px 1px 2px rgba(0, 0, 0, 0.3));\n",
              "      fill: #FFFFFF;\n",
              "    }\n",
              "  </style>\n",
              "\n",
              "    <script>\n",
              "      const buttonEl =\n",
              "        document.querySelector('#df-8d2b943b-d4ea-4448-b8f8-b68a2b549b4c button.colab-df-convert');\n",
              "      buttonEl.style.display =\n",
              "        google.colab.kernel.accessAllowed ? 'block' : 'none';\n",
              "\n",
              "      async function convertToInteractive(key) {\n",
              "        const element = document.querySelector('#df-8d2b943b-d4ea-4448-b8f8-b68a2b549b4c');\n",
              "        const dataTable =\n",
              "          await google.colab.kernel.invokeFunction('convertToInteractive',\n",
              "                                                    [key], {});\n",
              "        if (!dataTable) return;\n",
              "\n",
              "        const docLinkHtml = 'Like what you see? Visit the ' +\n",
              "          '<a target=\"_blank\" href=https://colab.research.google.com/notebooks/data_table.ipynb>data table notebook</a>'\n",
              "          + ' to learn more about interactive tables.';\n",
              "        element.innerHTML = '';\n",
              "        dataTable['output_type'] = 'display_data';\n",
              "        await google.colab.output.renderOutput(dataTable, element);\n",
              "        const docLink = document.createElement('div');\n",
              "        docLink.innerHTML = docLinkHtml;\n",
              "        element.appendChild(docLink);\n",
              "      }\n",
              "    </script>\n",
              "  </div>\n",
              "\n",
              "\n",
              "<div id=\"df-ca4dbcc4-31c7-48bc-af0f-1ba372e5b884\">\n",
              "  <button class=\"colab-df-quickchart\" onclick=\"quickchart('df-ca4dbcc4-31c7-48bc-af0f-1ba372e5b884')\"\n",
              "            title=\"Suggest charts\"\n",
              "            style=\"display:none;\">\n",
              "\n",
              "<svg xmlns=\"http://www.w3.org/2000/svg\" height=\"24px\"viewBox=\"0 0 24 24\"\n",
              "     width=\"24px\">\n",
              "    <g>\n",
              "        <path d=\"M19 3H5c-1.1 0-2 .9-2 2v14c0 1.1.9 2 2 2h14c1.1 0 2-.9 2-2V5c0-1.1-.9-2-2-2zM9 17H7v-7h2v7zm4 0h-2V7h2v10zm4 0h-2v-4h2v4z\"/>\n",
              "    </g>\n",
              "</svg>\n",
              "  </button>\n",
              "\n",
              "<style>\n",
              "  .colab-df-quickchart {\n",
              "      --bg-color: #E8F0FE;\n",
              "      --fill-color: #1967D2;\n",
              "      --hover-bg-color: #E2EBFA;\n",
              "      --hover-fill-color: #174EA6;\n",
              "      --disabled-fill-color: #AAA;\n",
              "      --disabled-bg-color: #DDD;\n",
              "  }\n",
              "\n",
              "  [theme=dark] .colab-df-quickchart {\n",
              "      --bg-color: #3B4455;\n",
              "      --fill-color: #D2E3FC;\n",
              "      --hover-bg-color: #434B5C;\n",
              "      --hover-fill-color: #FFFFFF;\n",
              "      --disabled-bg-color: #3B4455;\n",
              "      --disabled-fill-color: #666;\n",
              "  }\n",
              "\n",
              "  .colab-df-quickchart {\n",
              "    background-color: var(--bg-color);\n",
              "    border: none;\n",
              "    border-radius: 50%;\n",
              "    cursor: pointer;\n",
              "    display: none;\n",
              "    fill: var(--fill-color);\n",
              "    height: 32px;\n",
              "    padding: 0;\n",
              "    width: 32px;\n",
              "  }\n",
              "\n",
              "  .colab-df-quickchart:hover {\n",
              "    background-color: var(--hover-bg-color);\n",
              "    box-shadow: 0 1px 2px rgba(60, 64, 67, 0.3), 0 1px 3px 1px rgba(60, 64, 67, 0.15);\n",
              "    fill: var(--button-hover-fill-color);\n",
              "  }\n",
              "\n",
              "  .colab-df-quickchart-complete:disabled,\n",
              "  .colab-df-quickchart-complete:disabled:hover {\n",
              "    background-color: var(--disabled-bg-color);\n",
              "    fill: var(--disabled-fill-color);\n",
              "    box-shadow: none;\n",
              "  }\n",
              "\n",
              "  .colab-df-spinner {\n",
              "    border: 2px solid var(--fill-color);\n",
              "    border-color: transparent;\n",
              "    border-bottom-color: var(--fill-color);\n",
              "    animation:\n",
              "      spin 1s steps(1) infinite;\n",
              "  }\n",
              "\n",
              "  @keyframes spin {\n",
              "    0% {\n",
              "      border-color: transparent;\n",
              "      border-bottom-color: var(--fill-color);\n",
              "      border-left-color: var(--fill-color);\n",
              "    }\n",
              "    20% {\n",
              "      border-color: transparent;\n",
              "      border-left-color: var(--fill-color);\n",
              "      border-top-color: var(--fill-color);\n",
              "    }\n",
              "    30% {\n",
              "      border-color: transparent;\n",
              "      border-left-color: var(--fill-color);\n",
              "      border-top-color: var(--fill-color);\n",
              "      border-right-color: var(--fill-color);\n",
              "    }\n",
              "    40% {\n",
              "      border-color: transparent;\n",
              "      border-right-color: var(--fill-color);\n",
              "      border-top-color: var(--fill-color);\n",
              "    }\n",
              "    60% {\n",
              "      border-color: transparent;\n",
              "      border-right-color: var(--fill-color);\n",
              "    }\n",
              "    80% {\n",
              "      border-color: transparent;\n",
              "      border-right-color: var(--fill-color);\n",
              "      border-bottom-color: var(--fill-color);\n",
              "    }\n",
              "    90% {\n",
              "      border-color: transparent;\n",
              "      border-bottom-color: var(--fill-color);\n",
              "    }\n",
              "  }\n",
              "</style>\n",
              "\n",
              "  <script>\n",
              "    async function quickchart(key) {\n",
              "      const quickchartButtonEl =\n",
              "        document.querySelector('#' + key + ' button');\n",
              "      quickchartButtonEl.disabled = true;  // To prevent multiple clicks.\n",
              "      quickchartButtonEl.classList.add('colab-df-spinner');\n",
              "      try {\n",
              "        const charts = await google.colab.kernel.invokeFunction(\n",
              "            'suggestCharts', [key], {});\n",
              "      } catch (error) {\n",
              "        console.error('Error during call to suggestCharts:', error);\n",
              "      }\n",
              "      quickchartButtonEl.classList.remove('colab-df-spinner');\n",
              "      quickchartButtonEl.classList.add('colab-df-quickchart-complete');\n",
              "    }\n",
              "    (() => {\n",
              "      let quickchartButtonEl =\n",
              "        document.querySelector('#df-ca4dbcc4-31c7-48bc-af0f-1ba372e5b884 button');\n",
              "      quickchartButtonEl.style.display =\n",
              "        google.colab.kernel.accessAllowed ? 'block' : 'none';\n",
              "    })();\n",
              "  </script>\n",
              "</div>\n",
              "\n",
              "    </div>\n",
              "  </div>\n"
            ]
          },
          "metadata": {},
          "execution_count": 19
        }
      ]
    },
    {
      "cell_type": "code",
      "source": [
        "df.isnull().sum()"
      ],
      "metadata": {
        "colab": {
          "base_uri": "https://localhost:8080/"
        },
        "id": "9H-6uRei6ROq",
        "outputId": "a522f3af-18a6-45e0-cf06-23f82c1565fc"
      },
      "execution_count": 20,
      "outputs": [
        {
          "output_type": "execute_result",
          "data": {
            "text/plain": [
              "trans_date_trans_time    0\n",
              "cc_num                   0\n",
              "merchant                 0\n",
              "category                 1\n",
              "amt                      1\n",
              "first                    1\n",
              "last                     1\n",
              "gender                   1\n",
              "street                   1\n",
              "city                     1\n",
              "state                    1\n",
              "zip                      1\n",
              "lat                      1\n",
              "long                     1\n",
              "city_pop                 1\n",
              "job                      1\n",
              "dob                      1\n",
              "is_fraud                 1\n",
              "dtype: int64"
            ]
          },
          "metadata": {},
          "execution_count": 20
        }
      ]
    },
    {
      "cell_type": "code",
      "source": [
        "df.dropna(inplace=True)"
      ],
      "metadata": {
        "id": "E7hEjPg-6WOY"
      },
      "execution_count": 21,
      "outputs": []
    },
    {
      "cell_type": "code",
      "source": [
        "df.isnull().sum()"
      ],
      "metadata": {
        "colab": {
          "base_uri": "https://localhost:8080/"
        },
        "id": "SlvGxzIt6ilA",
        "outputId": "efc87b95-1d29-401c-e1e7-8a89d4e3228e"
      },
      "execution_count": 22,
      "outputs": [
        {
          "output_type": "execute_result",
          "data": {
            "text/plain": [
              "trans_date_trans_time    0\n",
              "cc_num                   0\n",
              "merchant                 0\n",
              "category                 0\n",
              "amt                      0\n",
              "first                    0\n",
              "last                     0\n",
              "gender                   0\n",
              "street                   0\n",
              "city                     0\n",
              "state                    0\n",
              "zip                      0\n",
              "lat                      0\n",
              "long                     0\n",
              "city_pop                 0\n",
              "job                      0\n",
              "dob                      0\n",
              "is_fraud                 0\n",
              "dtype: int64"
            ]
          },
          "metadata": {},
          "execution_count": 22
        }
      ]
    },
    {
      "cell_type": "code",
      "source": [
        "#NULL values have been removed YAY. Lets convert the df into sql"
      ],
      "metadata": {
        "id": "f0oHbYE_6lvg"
      },
      "execution_count": 23,
      "outputs": []
    },
    {
      "cell_type": "code",
      "source": [
        "!pip install sqlalchemy pandas\n"
      ],
      "metadata": {
        "colab": {
          "base_uri": "https://localhost:8080/"
        },
        "id": "NA3bNh3s7sDh",
        "outputId": "67bc8d54-a7af-432e-c7a7-9936e0e44032"
      },
      "execution_count": 24,
      "outputs": [
        {
          "output_type": "stream",
          "name": "stdout",
          "text": [
            "Requirement already satisfied: sqlalchemy in /usr/local/lib/python3.10/dist-packages (2.0.23)\n",
            "Requirement already satisfied: pandas in /usr/local/lib/python3.10/dist-packages (1.5.3)\n",
            "Requirement already satisfied: typing-extensions>=4.2.0 in /usr/local/lib/python3.10/dist-packages (from sqlalchemy) (4.5.0)\n",
            "Requirement already satisfied: greenlet!=0.4.17 in /usr/local/lib/python3.10/dist-packages (from sqlalchemy) (3.0.2)\n",
            "Requirement already satisfied: python-dateutil>=2.8.1 in /usr/local/lib/python3.10/dist-packages (from pandas) (2.8.2)\n",
            "Requirement already satisfied: pytz>=2020.1 in /usr/local/lib/python3.10/dist-packages (from pandas) (2023.3.post1)\n",
            "Requirement already satisfied: numpy>=1.21.0 in /usr/local/lib/python3.10/dist-packages (from pandas) (1.23.5)\n",
            "Requirement already satisfied: six>=1.5 in /usr/local/lib/python3.10/dist-packages (from python-dateutil>=2.8.1->pandas) (1.16.0)\n"
          ]
        }
      ]
    },
    {
      "cell_type": "markdown",
      "source": [
        "# Create an engine that represents the core interface to the database\n",
        "\n"
      ],
      "metadata": {
        "id": "dLr8u-qquwsi"
      }
    },
    {
      "cell_type": "code",
      "source": [
        "engine = create_engine('sqlite:///mydatabase.db')  # Creates a mydatabase.db file\n",
        "\n",
        "# Convert the DataFrame to a SQL table\n",
        "df.to_sql('transactions', engine, index=False, if_exists='replace')"
      ],
      "metadata": {
        "colab": {
          "base_uri": "https://localhost:8080/"
        },
        "id": "-Q97LHGl6_wy",
        "outputId": "0d17a63a-9f2b-40ac-9a81-56215de86ed6"
      },
      "execution_count": 25,
      "outputs": [
        {
          "output_type": "execute_result",
          "data": {
            "text/plain": [
              "1253255"
            ]
          },
          "metadata": {},
          "execution_count": 25
        }
      ]
    },
    {
      "cell_type": "markdown",
      "source": [
        "#Testing the connection with a query\n"
      ],
      "metadata": {
        "id": "YiBlKL8Ru1Ud"
      }
    },
    {
      "cell_type": "code",
      "source": [
        "from sqlalchemy import text\n",
        "\n",
        "# Example query: Select all records from the `transactions` table\n",
        "with engine.connect() as connection:\n",
        "    result = connection.execute(text(\"SELECT * FROM transactions limit 10\"))\n",
        "    for row in result:\n",
        "        print(row)"
      ],
      "metadata": {
        "colab": {
          "base_uri": "https://localhost:8080/"
        },
        "id": "K4GtOEX48GIZ",
        "outputId": "7fe27d1f-d8df-4335-f723-0e5396b22a82"
      },
      "execution_count": 26,
      "outputs": [
        {
          "output_type": "stream",
          "name": "stdout",
          "text": [
            "('2019-01-01 00:00:18', 2703186189652095, 'fraud_Rippin, Kub and Mann', 'misc_net', 4.97, 'Jennifer', 'Banks', 'F', '561 Perry Cove', 'Moravian Falls', 'NC', 28654.0, 36.0788, -81.1781, 3495.0, 'Psychologist, counselling', '1988-03-09', 0.0)\n",
            "('2019-01-01 00:00:44', 630423337322, 'fraud_Heller, Gutmann and Zieme', 'grocery_pos', 107.23, 'Stephanie', 'Gill', 'F', '43039 Riley Greens Suite 393', 'Orient', 'WA', 99160.0, 48.8878, -118.2105, 149.0, 'Special educational needs teacher', '1978-06-21', 0.0)\n",
            "('2019-01-01 00:00:51', 38859492057661, 'fraud_Lind-Buckridge', 'entertainment', 220.11, 'Edward', 'Sanchez', 'M', '594 White Dale Suite 530', 'Malad City', 'ID', 83252.0, 42.1808, -112.262, 4154.0, 'Nature conservation officer', '1962-01-19', 0.0)\n",
            "('2019-01-01 00:01:16', 3534093764340240, 'fraud_Kutch, Hermiston and Farrell', 'gas_transport', 45.0, 'Jeremy', 'White', 'M', '9443 Cynthia Court Apt. 038', 'Boulder', 'MT', 59632.0, 46.2306, -112.1138, 1939.0, 'Patent attorney', '1967-01-12', 0.0)\n",
            "('2019-01-01 00:03:06', 375534208663984, 'fraud_Keeling-Crist', 'misc_pos', 41.96, 'Tyler', 'Garcia', 'M', '408 Bradley Rest', 'Doe Hill', 'VA', 24433.0, 38.4207, -79.4629, 99.0, 'Dance movement psychotherapist', '1986-03-28', 0.0)\n",
            "('2019-01-01 00:04:08', 4767265376804500, 'fraud_Stroman, Hudson and Erdman', 'gas_transport', 94.63, 'Jennifer', 'Conner', 'F', '4655 David Island', 'Dublin', 'PA', 18917.0, 40.375, -75.2045, 2158.0, 'Transport planner', '1961-06-19', 0.0)\n",
            "('2019-01-01 00:04:42', 30074693890476, 'fraud_Rowe-Vandervort', 'grocery_net', 44.54, 'Kelsey', 'Richards', 'F', '889 Sarah Station Suite 624', 'Holcomb', 'KS', 67851.0, 37.9931, -100.9893, 2691.0, 'Arboriculturist', '1993-08-16', 0.0)\n",
            "('2019-01-01 00:05:08', 6011360759745864, 'fraud_Corwin-Collins', 'gas_transport', 71.65, 'Steven', 'Williams', 'M', '231 Flores Pass Suite 720', 'Edinburg', 'VA', 22824.0, 38.8432, -78.6003, 6018.0, 'Designer, multimedia', '1947-08-21', 0.0)\n",
            "('2019-01-01 00:05:18', 4922710831011201, 'fraud_Herzog Ltd', 'misc_pos', 4.27, 'Heather', 'Chase', 'F', '6888 Hicks Stream Suite 954', 'Manor', 'PA', 15665.0, 40.3359, -79.6607, 1472.0, 'Public affairs consultant', '1941-03-07', 0.0)\n",
            "('2019-01-01 00:06:01', 2720830304681674, 'fraud_Schoen, Kuphal and Nitzsche', 'grocery_pos', 198.39, 'Melissa', 'Aguilar', 'F', '21326 Taylor Squares Suite 708', 'Clarksville', 'TN', 37040.0, 36.522, -87.34899999999999, 151785.0, 'Pathologist', '1974-03-28', 0.0)\n"
          ]
        }
      ]
    },
    {
      "cell_type": "markdown",
      "source": [
        "#Categorising transactions as potentially fraudulent with a CASE statement\n"
      ],
      "metadata": {
        "id": "Y1lFkidLu66b"
      }
    },
    {
      "cell_type": "code",
      "source": [
        "with engine.connect() as connection:\n",
        "    result = connection.execute(text(\"SELECT trans_date_trans_time, cc_num,amt,first,last,category, CASE WHEN amt > (avg(amt) over(partition by cc_num)) *2 THEN 'Unusually high amount' ELSE 'Normal transaction' END AS transaction_type FROM transactions limit 10\"))\n",
        "    for row in result:\n",
        "        print(row)"
      ],
      "metadata": {
        "colab": {
          "base_uri": "https://localhost:8080/"
        },
        "id": "NI6xNZleNzhN",
        "outputId": "301c1161-c623-4241-b36f-5328226f47cd"
      },
      "execution_count": 27,
      "outputs": [
        {
          "output_type": "stream",
          "name": "stdout",
          "text": [
            "('2019-01-01 12:47:15', 60416207185, 7.27, 'Mary', 'Diaz', 'misc_net', 'Normal transaction')\n",
            "('2019-01-02 08:44:57', 60416207185, 52.94, 'Mary', 'Diaz', 'gas_transport', 'Normal transaction')\n",
            "('2019-01-02 08:47:36', 60416207185, 82.08, 'Mary', 'Diaz', 'gas_transport', 'Normal transaction')\n",
            "('2019-01-02 12:38:14', 60416207185, 34.79, 'Mary', 'Diaz', 'kids_pets', 'Normal transaction')\n",
            "('2019-01-02 13:10:46', 60416207185, 27.18, 'Mary', 'Diaz', 'home', 'Normal transaction')\n",
            "('2019-01-03 13:56:35', 60416207185, 6.87, 'Mary', 'Diaz', 'shopping_net', 'Normal transaction')\n",
            "('2019-01-03 17:05:10', 60416207185, 8.43, 'Mary', 'Diaz', 'food_dining', 'Normal transaction')\n",
            "('2019-01-04 13:59:55', 60416207185, 117.11, 'Mary', 'Diaz', 'home', 'Normal transaction')\n",
            "('2019-01-04 21:17:22', 60416207185, 26.74, 'Mary', 'Diaz', 'personal_care', 'Normal transaction')\n",
            "('2019-01-05 00:42:24', 60416207185, 105.2, 'Mary', 'Diaz', 'grocery_pos', 'Normal transaction')\n"
          ]
        }
      ]
    },
    {
      "cell_type": "markdown",
      "source": [
        "#Monthly spending trends\n",
        "\n",
        "#the total amount spent per month for each credit card number"
      ],
      "metadata": {
        "id": "cUXRBzADu-ZZ"
      }
    },
    {
      "cell_type": "code",
      "source": [
        "with engine.connect() as connection:\n",
        "    result = connection.execute(text(\"SELECT distinct cc_num, strftime('%m', trans_date_trans_time) AS month, SUM(amt) OVER (PARTITION BY cc_num, strftime('%m', trans_date_trans_time)) AS monthly_spending from transactions limit 20\"))\n",
        "    for row in result:\n",
        "        print(row)\n",
        "\n"
      ],
      "metadata": {
        "colab": {
          "base_uri": "https://localhost:8080/"
        },
        "id": "b4zYEyomP5Xt",
        "outputId": "c12ba2e0-439f-4c45-d129-f235e64c70ba"
      },
      "execution_count": 31,
      "outputs": [
        {
          "output_type": "stream",
          "name": "stdout",
          "text": [
            "(60416207185, '01', 2410.5399999999995)\n",
            "(60416207185, '02', 2861.4799999999987)\n",
            "(60416207185, '03', 6672.739999999996)\n",
            "(60416207185, '04', 6430.91)\n",
            "(60416207185, '05', 3543.449999999999)\n",
            "(60416207185, '06', 11020.8)\n",
            "(60416207185, '07', 10906.610000000006)\n",
            "(60416207185, '08', 11836.929999999998)\n",
            "(60416207185, '09', 8987.730000000001)\n",
            "(60416207185, '10', 8292.01)\n",
            "(60416207185, '11', 10206.189999999997)\n",
            "(60416207185, '12', 10619.240000000003)\n",
            "(60422928733, '01', 2548.789999999999)\n",
            "(60422928733, '02', 3345.45)\n",
            "(60422928733, '03', 4866.010000000001)\n",
            "(60422928733, '04', 13448.550000000005)\n",
            "(60422928733, '05', 7281.459999999998)\n",
            "(60422928733, '06', 7448.589999999998)\n",
            "(60422928733, '07', 11842.559999999998)\n",
            "(60422928733, '08', 12798.259999999993)\n"
          ]
        }
      ]
    },
    {
      "cell_type": "markdown",
      "source": [
        "#Age Group Analysis\n",
        "#Analyze AVERAGE spending by age group."
      ],
      "metadata": {
        "id": "l_o6xUOvvPHe"
      }
    },
    {
      "cell_type": "code",
      "source": [
        "with engine.connect() as connection:\n",
        "    result = connection.execute(text(\"SELECT age_group, AVG(amt) AS avg_spending, SUM(amt) AS total_spending FROM (SELECT cc_num, amt, CASE WHEN (strftime('%Y', 'now') - strftime('%Y', dob)) BETWEEN 18 AND 25 THEN '18-25' WHEN (strftime('%Y', 'now') - strftime('%Y', dob)) BETWEEN 26 AND 35 THEN '26-35' WHEN (strftime('%Y', 'now') - strftime('%Y', dob)) BETWEEN 36 AND 50 THEN '36-50' ELSE 'Others' END AS age_group FROM transactions) AS age_data GROUP BY age_group\"))\n",
        "    for row in result:\n",
        "        print(row)"
      ],
      "metadata": {
        "colab": {
          "base_uri": "https://localhost:8080/"
        },
        "id": "fGLyvlc-s8T1",
        "outputId": "87323e82-ef10-44c3-d9d2-e963693e6ab7"
      },
      "execution_count": 35,
      "outputs": [
        {
          "output_type": "stream",
          "name": "stdout",
          "text": [
            "('18-25', 62.93347594162678, 2902303.110000002)\n",
            "('26-35', 70.27989825371696, 14609082.450000146)\n",
            "('36-50', 75.02738309451782, 31997453.260000672)\n",
            "('Others', 66.54357180891628, 38115559.04000097)\n"
          ]
        }
      ]
    },
    {
      "cell_type": "markdown",
      "source": [
        "#Ranking Merchants by the number of transactions\n",
        "\n",
        "#This query ranks merchants based on the total number of transactions they have processed using the RANK AND PARTITION BY window functions.\n",
        "\n"
      ],
      "metadata": {
        "id": "re60fA92xOfY"
      }
    },
    {
      "cell_type": "code",
      "source": [
        "\n",
        "with engine.connect() as connection:\n",
        "    result = connection.execute(text(\"SELECT merchant, COUNT(*) OVER (PARTITION BY merchant) AS transaction_count, RANK() OVER (ORDER BY COUNT(*) DESC) AS rank FROM transactions GROUP BY merchant LIMIT 30\"))\n",
        "    for row in result:\n",
        "        print(row)"
      ],
      "metadata": {
        "colab": {
          "base_uri": "https://localhost:8080/"
        },
        "id": "zcxkS-E-v23A",
        "outputId": "84e5f305-52bd-4a3c-f5ac-6e5e586bde25"
      },
      "execution_count": 37,
      "outputs": [
        {
          "output_type": "stream",
          "name": "stdout",
          "text": [
            "('fraud_Abbott-Rogahn', 1, 368)\n",
            "('fraud_Abbott-Steuber', 1, 456)\n",
            "('fraud_Abernathy and Sons', 1, 457)\n",
            "('fraud_Abshire PLC', 1, 308)\n",
            "('fraud_Adams, Kovacek and Kuhlman', 1, 599)\n",
            "('fraud_Adams-Barrows', 1, 418)\n",
            "('fraud_Altenwerth, Cartwright and Koss', 1, 319)\n",
            "('fraud_Altenwerth-Kilback', 1, 82)\n",
            "('fraud_Ankunding LLC', 1, 259)\n",
            "('fraud_Ankunding-Carroll', 1, 672)\n",
            "('fraud_Armstrong, Walter and Gottlieb', 1, 373)\n",
            "('fraud_Auer LLC', 1, 310)\n",
            "('fraud_Auer-Mosciski', 1, 125)\n",
            "('fraud_Auer-West', 1, 264)\n",
            "('fraud_Bahringer Group', 1, 492)\n",
            "('fraud_Bahringer, Bergnaum and Quitzon', 1, 111)\n",
            "('fraud_Bahringer, Osinski and Block', 1, 410)\n",
            "('fraud_Bahringer, Schoen and Corkery', 1, 162)\n",
            "('fraud_Bahringer-Larson', 1, 640)\n",
            "('fraud_Bahringer-Streich', 1, 454)\n",
            "('fraud_Bailey-Morar', 1, 132)\n",
            "('fraud_Balistreri-Nader', 1, 508)\n",
            "('fraud_Barrows PLC', 1, 186)\n",
            "('fraud_Bartoletti and Sons', 1, 357)\n",
            "('fraud_Bartoletti-Wunsch', 1, 13)\n",
            "('fraud_Barton Inc', 1, 116)\n",
            "('fraud_Barton LLC', 1, 229)\n",
            "('fraud_Bashirian Group', 1, 330)\n",
            "('fraud_Bauch-Blanda', 1, 348)\n",
            "('fraud_Bauch-Raynor', 1, 63)\n"
          ]
        }
      ]
    },
    {
      "cell_type": "markdown",
      "source": [
        "#Fraud Trends Over Time\n",
        "#This query looks at the count of fraudulent transactions on a monthly basis."
      ],
      "metadata": {
        "id": "6Nt5O_yRyHcN"
      }
    },
    {
      "cell_type": "code",
      "source": [
        "with engine.connect() as connection:\n",
        "    result = connection.execute(text(\"SELECT strftime('%Y-%m', trans_date_trans_time) AS month,COUNT(*) AS fraud_count FROM transactions WHERE is_fraud = 1 GROUP BY  month ORDER BY  month\"))\n",
        "    for row in result:\n",
        "        print(row)\n",
        "\n",
        "\n"
      ],
      "metadata": {
        "colab": {
          "base_uri": "https://localhost:8080/"
        },
        "id": "Hk6iv-gGw71d",
        "outputId": "f9fd89f3-18ec-4d26-f516-4c59d31832ab"
      },
      "execution_count": 39,
      "outputs": [
        {
          "output_type": "stream",
          "name": "stdout",
          "text": [
            "('2019-01', 506)\n",
            "('2019-02', 517)\n",
            "('2019-03', 494)\n",
            "('2019-04', 376)\n",
            "('2019-05', 408)\n",
            "('2019-06', 354)\n",
            "('2019-07', 331)\n",
            "('2019-08', 382)\n",
            "('2019-09', 418)\n",
            "('2019-10', 386)\n",
            "('2020-06', 133)\n",
            "('2020-07', 321)\n",
            "('2020-08', 415)\n",
            "('2020-09', 340)\n",
            "('2020-10', 384)\n",
            "('2020-11', 294)\n",
            "('2020-12', 258)\n"
          ]
        }
      ]
    },
    {
      "cell_type": "markdown",
      "source": [
        "#Number of fraudulent transactions per category"
      ],
      "metadata": {
        "id": "6BaEi-AgzSlB"
      }
    },
    {
      "cell_type": "code",
      "source": [
        "with engine.connect() as connection:\n",
        "    result = connection.execute(text(\"SELECT cc_num,strftime('%Y-%m', trans_date_trans_time) AS month,gender,amt,category,count(*) from transactions where is_fraud=1 group by category\"))\n",
        "    for row in result:\n",
        "        print(row)"
      ],
      "metadata": {
        "colab": {
          "base_uri": "https://localhost:8080/"
        },
        "id": "9APzr6W8x4tv",
        "outputId": "de3f7d4a-04ab-4afe-c558-50ef9930a2fb"
      },
      "execution_count": 40,
      "outputs": [
        {
          "output_type": "stream",
          "name": "stdout",
          "text": [
            "(4859525594182537, '2019-01', 'F', 564.57, 'entertainment', 181)\n",
            "(4859525594182537, '2019-01', 'F', 95.94, 'food_dining', 134)\n",
            "(340187018810220, '2019-01', 'F', 11.52, 'gas_transport', 519)\n",
            "(341546199006537, '2019-01', 'M', 14.37, 'grocery_net', 119)\n",
            "(4613314721966, '2019-01', 'M', 281.06, 'grocery_pos', 1447)\n",
            "(341546199006537, '2019-01', 'M', 18.17, 'health_fitness', 127)\n",
            "(4587577161160601, '2019-01', 'F', 264.35, 'home', 161)\n",
            "(341546199006537, '2019-01', 'M', 4.58, 'kids_pets', 212)\n",
            "(4613314721966, '2019-01', 'M', 843.91, 'misc_net', 771)\n",
            "(341546199006537, '2019-01', 'M', 49.61, 'misc_pos', 213)\n",
            "(4789911625179723, '2019-01', 'F', 22.22, 'personal_care', 188)\n",
            "(4613314721966, '2019-01', 'M', 844.8, 'shopping_net', 1448)\n",
            "(4922710831011201, '2019-01', 'F', 711.66, 'shopping_pos', 682)\n",
            "(4922710831011201, '2019-01', 'F', 4.5, 'travel', 115)\n"
          ]
        }
      ]
    },
    {
      "cell_type": "markdown",
      "source": [
        "#Day of Week Analysis\n",
        "#Analyzing transactions based on the day of the week to see if there are trends in spending or fraud."
      ],
      "metadata": {
        "id": "3W48Nl5R00su"
      }
    },
    {
      "cell_type": "code",
      "source": [
        "with engine.connect() as connection:\n",
        "    result = connection.execute(text(\"SELECT CASE strftime('%w', trans_date_trans_time) WHEN '0' THEN 'Sunday' WHEN '1' THEN 'Monday' WHEN '2' THEN 'Tuesday' WHEN '3' THEN 'Wednesday' WHEN '4' THEN 'Thursday' WHEN '5' THEN 'Friday' WHEN '6' THEN 'Saturday' END AS day_of_week, SUM(amt) AS total_spending, COUNT(*) AS fraud_count  FROM transactions WHERE is_fraud = 1 GROUP BY day_of_week ORDER BY strftime('%w', trans_date_trans_time)\"))\n",
        "    for row in result:\n",
        "        print(row)\n",
        "\n"
      ],
      "metadata": {
        "colab": {
          "base_uri": "https://localhost:8080/"
        },
        "id": "enGOXOp4zNsL",
        "outputId": "e187d3d5-43d7-4a17-d2fc-b59d9aaf2970"
      },
      "execution_count": 42,
      "outputs": [
        {
          "output_type": "stream",
          "name": "stdout",
          "text": [
            "('Sunday', 583000.0000000012, 1074)\n",
            "('Monday', 482636.41999999963, 987)\n",
            "('Tuesday', 454086.82000000007, 839)\n",
            "('Wednesday', 398176.71000000025, 738)\n",
            "('Thursday', 436981.51, 817)\n",
            "('Friday', 458417.11000000004, 878)\n",
            "('Saturday', 511532.58999999985, 984)\n"
          ]
        }
      ]
    },
    {
      "cell_type": "code",
      "source": [],
      "metadata": {
        "id": "ARbKE6b-0HcH"
      },
      "execution_count": null,
      "outputs": []
    }
  ]
}